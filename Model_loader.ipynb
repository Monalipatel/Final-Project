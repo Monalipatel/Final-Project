{
 "cells": [
  {
   "cell_type": "code",
   "execution_count": 3,
   "metadata": {},
   "outputs": [
    {
     "name": "stdout",
     "output_type": "stream",
     "text": [
      "228373.93\n"
     ]
    }
   ],
   "source": [
    "from sklearn.externals import joblib\n",
    "import pandas as pd\n",
    "import numpy as np\n",
    "import pickle\n",
    "    \n",
    "    \n",
    "def ValuePredictor(to_predict_list):\n",
    "    to_predict = np.array(to_predict_list).reshape(1,8)\n",
    "    loaded_model = joblib.load(\"model.joblib\")\n",
    "    X_scaler = joblib.load(\"X_scaler.joblib\")\n",
    "    y_scaler = joblib.load(\"y_scaler.joblib\")\n",
    "    X_scaled = X_scaler.transform(to_predict)\n",
    "    result = loaded_model.predict(X_scaled)\n",
    "    result_unscaled = y_scaler.inverse_transform(result)\n",
    "    return result_unscaled[0]\n",
    "\n",
    "\n",
    "\n",
    "example_list=[44,3,15,10,1,6,0,2]\n",
    "print(ValuePredictor(example_list))"
   ]
  },
  {
   "cell_type": "code",
   "execution_count": null,
   "metadata": {},
   "outputs": [],
   "source": []
  }
 ],
 "metadata": {
  "kernelspec": {
   "display_name": "Python 3",
   "language": "python",
   "name": "python3"
  },
  "language_info": {
   "codemirror_mode": {
    "name": "ipython",
    "version": 3
   },
   "file_extension": ".py",
   "mimetype": "text/x-python",
   "name": "python",
   "nbconvert_exporter": "python",
   "pygments_lexer": "ipython3",
   "version": "3.7.6"
  }
 },
 "nbformat": 4,
 "nbformat_minor": 4
}
